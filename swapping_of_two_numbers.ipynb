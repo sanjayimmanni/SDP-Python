{
  "nbformat": 4,
  "nbformat_minor": 0,
  "metadata": {
    "colab": {
      "name": "swapping of two numbers",
      "provenance": []
    },
    "kernelspec": {
      "name": "python3",
      "display_name": "Python 3"
    }
  },
  "cells": [
    {
      "cell_type": "code",
      "metadata": {
        "id": "lFSJhtmZiNYS",
        "colab_type": "code",
        "colab": {
          "base_uri": "https://localhost:8080/",
          "height": 35
        },
        "outputId": "77fc0397-505a-4fb0-b372-f8390a80c1e3"
      },
      "source": [
        "a=int(input(\"enter a value:\"))"
      ],
      "execution_count": 37,
      "outputs": [
        {
          "output_type": "stream",
          "text": [
            "enter a value:8\n"
          ],
          "name": "stdout"
        }
      ]
    },
    {
      "cell_type": "code",
      "metadata": {
        "id": "cSF1GqsNiNbb",
        "colab_type": "code",
        "colab": {
          "base_uri": "https://localhost:8080/",
          "height": 35
        },
        "outputId": "e92407d0-ac78-4080-9ce7-83ab13180cc7"
      },
      "source": [
        "b=int(input(\"enter b value:\"))"
      ],
      "execution_count": 38,
      "outputs": [
        {
          "output_type": "stream",
          "text": [
            "enter b value:5\n"
          ],
          "name": "stdout"
        }
      ]
    },
    {
      "cell_type": "code",
      "metadata": {
        "id": "TM-HLCjqiNer",
        "colab_type": "code",
        "colab": {
          "base_uri": "https://localhost:8080/",
          "height": 35
        },
        "outputId": "64aebb06-f199-4668-fd00-d80bc341d660"
      },
      "source": [
        "print(\"value of a before swapping:\",a)"
      ],
      "execution_count": 39,
      "outputs": [
        {
          "output_type": "stream",
          "text": [
            "value of a before swapping: 8\n"
          ],
          "name": "stdout"
        }
      ]
    },
    {
      "cell_type": "code",
      "metadata": {
        "id": "RW1bq-TciNiU",
        "colab_type": "code",
        "colab": {
          "base_uri": "https://localhost:8080/",
          "height": 35
        },
        "outputId": "62329da2-fd26-48ad-b924-9d25e52330c4"
      },
      "source": [
        "print(\"value of b before swapping;\",b)"
      ],
      "execution_count": 40,
      "outputs": [
        {
          "output_type": "stream",
          "text": [
            "value of b before swapping; 5\n"
          ],
          "name": "stdout"
        }
      ]
    },
    {
      "cell_type": "code",
      "metadata": {
        "id": "t5hLHwWXiNlj",
        "colab_type": "code",
        "colab": {}
      },
      "source": [
        "temp=a"
      ],
      "execution_count": 41,
      "outputs": []
    },
    {
      "cell_type": "code",
      "metadata": {
        "id": "qEUXeMRFiNoz",
        "colab_type": "code",
        "colab": {}
      },
      "source": [
        "a=b"
      ],
      "execution_count": 42,
      "outputs": []
    },
    {
      "cell_type": "code",
      "metadata": {
        "id": "KJMw-y06iNsZ",
        "colab_type": "code",
        "colab": {}
      },
      "source": [
        "b=temp"
      ],
      "execution_count": 43,
      "outputs": []
    },
    {
      "cell_type": "code",
      "metadata": {
        "id": "KMDd5jQDiN2W",
        "colab_type": "code",
        "colab": {
          "base_uri": "https://localhost:8080/",
          "height": 35
        },
        "outputId": "c93371aa-29e6-4962-e22a-ef79ed3abd92"
      },
      "source": [
        "print(\"value of a after swapping:\",a)"
      ],
      "execution_count": 44,
      "outputs": [
        {
          "output_type": "stream",
          "text": [
            "value of a after swapping: 5\n"
          ],
          "name": "stdout"
        }
      ]
    },
    {
      "cell_type": "code",
      "metadata": {
        "id": "8gnm6ymdiOBF",
        "colab_type": "code",
        "colab": {
          "base_uri": "https://localhost:8080/",
          "height": 35
        },
        "outputId": "ab82c7ed-f7a6-45be-a3ef-e43b61a84411"
      },
      "source": [
        "print(\"value of b after swapping;\",b)"
      ],
      "execution_count": 45,
      "outputs": [
        {
          "output_type": "stream",
          "text": [
            "value of b after swapping; 8\n"
          ],
          "name": "stdout"
        }
      ]
    }
  ]
}