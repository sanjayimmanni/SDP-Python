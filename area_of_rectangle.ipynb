{
  "nbformat": 4,
  "nbformat_minor": 0,
  "metadata": {
    "colab": {
      "name": "area of rectangle",
      "provenance": []
    },
    "kernelspec": {
      "name": "python3",
      "display_name": "Python 3"
    }
  },
  "cells": [
    {
      "cell_type": "code",
      "metadata": {
        "id": "6t0rm2PVhHV-",
        "colab_type": "code",
        "colab": {
          "base_uri": "https://localhost:8080/",
          "height": 35
        },
        "outputId": "07838251-069a-4380-9962-8cb2bdd3bd82"
      },
      "source": [
        "l=float(input(\"enter the length:\"))"
      ],
      "execution_count": 27,
      "outputs": [
        {
          "output_type": "stream",
          "text": [
            "enter the length:5\n"
          ],
          "name": "stdout"
        }
      ]
    },
    {
      "cell_type": "code",
      "metadata": {
        "id": "bHXWUzZnhHZJ",
        "colab_type": "code",
        "colab": {
          "base_uri": "https://localhost:8080/",
          "height": 35
        },
        "outputId": "2c0c3e04-7e66-4775-a229-05db64921abd"
      },
      "source": [
        "b=float(input(\"enter the breadth:\"))"
      ],
      "execution_count": 28,
      "outputs": [
        {
          "output_type": "stream",
          "text": [
            "enter the breadth:9\n"
          ],
          "name": "stdout"
        }
      ]
    },
    {
      "cell_type": "code",
      "metadata": {
        "id": "cnEike9ChHbQ",
        "colab_type": "code",
        "colab": {}
      },
      "source": [
        "area=l*b"
      ],
      "execution_count": 29,
      "outputs": []
    },
    {
      "cell_type": "code",
      "metadata": {
        "id": "sT6vfcejhHhV",
        "colab_type": "code",
        "colab": {
          "base_uri": "https://localhost:8080/",
          "height": 35
        },
        "outputId": "329b8703-083d-44bd-d89b-aee8d216fe87"
      },
      "source": [
        "print(\"area of rectangle:\",area)"
      ],
      "execution_count": 30,
      "outputs": [
        {
          "output_type": "stream",
          "text": [
            "area of rectangle: 45.0\n"
          ],
          "name": "stdout"
        }
      ]
    }
  ]
}