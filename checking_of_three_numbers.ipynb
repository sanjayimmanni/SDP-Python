{
  "nbformat": 4,
  "nbformat_minor": 0,
  "metadata": {
    "colab": {
      "name": "checking of three numbers",
      "provenance": []
    },
    "kernelspec": {
      "name": "python3",
      "display_name": "Python 3"
    }
  },
  "cells": [
    {
      "cell_type": "code",
      "metadata": {
        "id": "75HtNvktaqmx",
        "colab_type": "code",
        "colab": {
          "base_uri": "https://localhost:8080/",
          "height": 35
        },
        "outputId": "b2ffce50-eb67-49c7-c3b4-f5b18c8e24f6"
      },
      "source": [
        "a=int(input('Enter the value of a  '))"
      ],
      "execution_count": null,
      "outputs": [
        {
          "output_type": "stream",
          "text": [
            "Enter the value of a  5\n"
          ],
          "name": "stdout"
        }
      ]
    },
    {
      "cell_type": "code",
      "metadata": {
        "id": "4eTvP8meatht",
        "colab_type": "code",
        "colab": {
          "base_uri": "https://localhost:8080/",
          "height": 35
        },
        "outputId": "b7f88c9f-0b9e-43bb-ccf1-cab00dd68732"
      },
      "source": [
        "b=int(input('Enter the value of b  '))"
      ],
      "execution_count": null,
      "outputs": [
        {
          "output_type": "stream",
          "text": [
            "Enter the value of b  6\n"
          ],
          "name": "stdout"
        }
      ]
    },
    {
      "cell_type": "code",
      "metadata": {
        "id": "ELgVVtcdatrd",
        "colab_type": "code",
        "colab": {
          "base_uri": "https://localhost:8080/",
          "height": 35
        },
        "outputId": "7b61ea68-8984-4b9f-d0a8-392bbf5ec77e"
      },
      "source": [
        "c=int(input('Enter the value of c  '))"
      ],
      "execution_count": null,
      "outputs": [
        {
          "output_type": "stream",
          "text": [
            "Enter the value of c  9\n"
          ],
          "name": "stdout"
        }
      ]
    },
    {
      "cell_type": "code",
      "metadata": {
        "id": "zFECek9Ia2JX",
        "colab_type": "code",
        "colab": {}
      },
      "source": [
        "if a>b and a>c:\n",
        "\tprint('a is the biggest no.')"
      ],
      "execution_count": null,
      "outputs": []
    },
    {
      "cell_type": "code",
      "metadata": {
        "id": "-g2X66nFa4yV",
        "colab_type": "code",
        "colab": {}
      },
      "source": [
        "if b>a and b>c:\n",
        "\tprint('b is the biggest no.')"
      ],
      "execution_count": null,
      "outputs": []
    },
    {
      "cell_type": "code",
      "metadata": {
        "id": "5RnT775EatoF",
        "colab_type": "code",
        "colab": {
          "base_uri": "https://localhost:8080/",
          "height": 35
        },
        "outputId": "e7dabf59-48c0-40c1-fc85-2d3dfce0467e"
      },
      "source": [
        "if c>a and c>b:\n",
        "\tprint('c is the biggest no.')"
      ],
      "execution_count": null,
      "outputs": [
        {
          "output_type": "stream",
          "text": [
            "c is the biggest no.\n"
          ],
          "name": "stdout"
        }
      ]
    }
  ]
}