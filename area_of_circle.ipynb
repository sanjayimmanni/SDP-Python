{
  "nbformat": 4,
  "nbformat_minor": 0,
  "metadata": {
    "colab": {
      "name": "area of circle",
      "provenance": []
    },
    "kernelspec": {
      "name": "python3",
      "display_name": "Python 3"
    }
  },
  "cells": [
    {
      "cell_type": "code",
      "metadata": {
        "id": "2pbJ0OOff4tl",
        "colab_type": "code",
        "colab": {
          "base_uri": "https://localhost:8080/",
          "height": 35
        },
        "outputId": "30682093-e81f-4813-bac7-03da839f06a8"
      },
      "source": [
        "r=int(input(\"enter the value of r:\"))"
      ],
      "execution_count": 16,
      "outputs": [
        {
          "output_type": "stream",
          "text": [
            "enter the value of r:5\n"
          ],
          "name": "stdout"
        }
      ]
    },
    {
      "cell_type": "code",
      "metadata": {
        "id": "p5GOqO5lgBK2",
        "colab_type": "code",
        "colab": {}
      },
      "source": [
        "area=3.142*r*r"
      ],
      "execution_count": 17,
      "outputs": []
    },
    {
      "cell_type": "code",
      "metadata": {
        "id": "qu1uNCr3gEuJ",
        "colab_type": "code",
        "colab": {
          "base_uri": "https://localhost:8080/",
          "height": 35
        },
        "outputId": "21f32ca7-7ae1-4ac8-a2f0-9cc7311b653e"
      },
      "source": [
        "print(\"area of circle\",area)"
      ],
      "execution_count": 18,
      "outputs": [
        {
          "output_type": "stream",
          "text": [
            "area of circle 78.55\n"
          ],
          "name": "stdout"
        }
      ]
    }
  ]
}