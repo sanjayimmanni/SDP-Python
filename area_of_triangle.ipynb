{
  "nbformat": 4,
  "nbformat_minor": 0,
  "metadata": {
    "colab": {
      "name": "area of triangle",
      "provenance": []
    },
    "kernelspec": {
      "name": "python3",
      "display_name": "Python 3"
    }
  },
  "cells": [
    {
      "cell_type": "code",
      "metadata": {
        "id": "j5cAn3uygXZF",
        "colab_type": "code",
        "colab": {
          "base_uri": "https://localhost:8080/",
          "height": 35
        },
        "outputId": "e52d2fc0-a372-47fb-b5e4-fd714c3c36e5"
      },
      "source": [
        "b=float(input(\"enter the base value:\"))"
      ],
      "execution_count": 19,
      "outputs": [
        {
          "output_type": "stream",
          "text": [
            "enter the base value:4\n"
          ],
          "name": "stdout"
        }
      ]
    },
    {
      "cell_type": "code",
      "metadata": {
        "id": "SUzRCvYAgZpr",
        "colab_type": "code",
        "colab": {
          "base_uri": "https://localhost:8080/",
          "height": 35
        },
        "outputId": "24a12f77-31d5-4df2-96d9-8bcadf18ec7d"
      },
      "source": [
        "h=float(input(\"enter the height value:\"))"
      ],
      "execution_count": 20,
      "outputs": [
        {
          "output_type": "stream",
          "text": [
            "enter the height value:9\n"
          ],
          "name": "stdout"
        }
      ]
    },
    {
      "cell_type": "code",
      "metadata": {
        "id": "j0JeGlSXgaaS",
        "colab_type": "code",
        "colab": {}
      },
      "source": [
        "area=0.5*b*h"
      ],
      "execution_count": 22,
      "outputs": []
    },
    {
      "cell_type": "code",
      "metadata": {
        "id": "-L3cMwiYgecT",
        "colab_type": "code",
        "colab": {
          "base_uri": "https://localhost:8080/",
          "height": 35
        },
        "outputId": "26e23ad3-0d87-4a88-c12e-a82fb8f2608e"
      },
      "source": [
        "print(\"area of the triangle\",area)"
      ],
      "execution_count": 23,
      "outputs": [
        {
          "output_type": "stream",
          "text": [
            "area of the triangle 18.0\n"
          ],
          "name": "stdout"
        }
      ]
    }
  ]
}