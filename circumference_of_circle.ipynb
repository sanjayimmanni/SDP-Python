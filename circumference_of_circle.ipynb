{
  "nbformat": 4,
  "nbformat_minor": 0,
  "metadata": {
    "colab": {
      "name": "circumference of circle",
      "provenance": []
    },
    "kernelspec": {
      "name": "python3",
      "display_name": "Python 3"
    }
  },
  "cells": [
    {
      "cell_type": "code",
      "metadata": {
        "id": "6qJUkkh7hwaT",
        "colab_type": "code",
        "colab": {
          "base_uri": "https://localhost:8080/",
          "height": 35
        },
        "outputId": "ec9437af-7c44-4cd8-9645-e5d33cbc57cc"
      },
      "source": [
        "r=float(input(\"enter the radius value:\"))"
      ],
      "execution_count": 34,
      "outputs": [
        {
          "output_type": "stream",
          "text": [
            "enter the radius value:21\n"
          ],
          "name": "stdout"
        }
      ]
    },
    {
      "cell_type": "code",
      "metadata": {
        "id": "b5RUMYsdhwdb",
        "colab_type": "code",
        "colab": {}
      },
      "source": [
        "c=2*3.142*r"
      ],
      "execution_count": 35,
      "outputs": []
    },
    {
      "cell_type": "code",
      "metadata": {
        "id": "iwgRge8Mhwf3",
        "colab_type": "code",
        "colab": {
          "base_uri": "https://localhost:8080/",
          "height": 35
        },
        "outputId": "c5935da0-96d1-4de5-83c3-6f8d664a8490"
      },
      "source": [
        "print(\"circumference of the circle:\",c)"
      ],
      "execution_count": 36,
      "outputs": [
        {
          "output_type": "stream",
          "text": [
            "circumference of the circle: 131.964\n"
          ],
          "name": "stdout"
        }
      ]
    }
  ]
}