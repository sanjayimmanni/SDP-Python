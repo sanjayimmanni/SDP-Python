{
  "nbformat": 4,
  "nbformat_minor": 0,
  "metadata": {
    "colab": {
      "name": "celsius to farenheit",
      "provenance": []
    },
    "kernelspec": {
      "name": "python3",
      "display_name": "Python 3"
    }
  },
  "cells": [
    {
      "cell_type": "code",
      "metadata": {
        "id": "d9MMfMsCgxsk",
        "colab_type": "code",
        "colab": {
          "base_uri": "https://localhost:8080/",
          "height": 35
        },
        "outputId": "d908e253-6ded-4a9a-bb03-3b0c55502593"
      },
      "source": [
        "c=float(input(\"enter the temperature value in celsius:\"))"
      ],
      "execution_count": 24,
      "outputs": [
        {
          "output_type": "stream",
          "text": [
            "enter the temperature value in celsius:98\n"
          ],
          "name": "stdout"
        }
      ]
    },
    {
      "cell_type": "code",
      "metadata": {
        "id": "Aqxch_0Jg2np",
        "colab_type": "code",
        "colab": {}
      },
      "source": [
        "f=(1.8*c)+32"
      ],
      "execution_count": 25,
      "outputs": []
    },
    {
      "cell_type": "code",
      "metadata": {
        "id": "C_FDKLOBg2sF",
        "colab_type": "code",
        "colab": {
          "base_uri": "https://localhost:8080/",
          "height": 35
        },
        "outputId": "8ce43ec0-62b3-4d2e-f043-2a8b29574fd9"
      },
      "source": [
        "print(\"temperature in farenheit:\",f)"
      ],
      "execution_count": 26,
      "outputs": [
        {
          "output_type": "stream",
          "text": [
            "temperature in farenheit: 208.4\n"
          ],
          "name": "stdout"
        }
      ]
    }
  ]
}