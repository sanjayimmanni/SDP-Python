{
  "nbformat": 4,
  "nbformat_minor": 0,
  "metadata": {
    "colab": {
      "name": "same or different values",
      "provenance": []
    },
    "kernelspec": {
      "name": "python3",
      "display_name": "Python 3"
    }
  },
  "cells": [
    {
      "cell_type": "code",
      "metadata": {
        "id": "LQYuEAv5fUc9",
        "colab_type": "code",
        "colab": {
          "base_uri": "https://localhost:8080/",
          "height": 35
        },
        "outputId": "c0881140-2c04-42b7-dac0-300b0d9f2370"
      },
      "source": [
        "a=input('Enter any value  ')"
      ],
      "execution_count": 11,
      "outputs": [
        {
          "output_type": "stream",
          "text": [
            "Enter any value  6\n"
          ],
          "name": "stdout"
        }
      ]
    },
    {
      "cell_type": "code",
      "metadata": {
        "id": "aZo7tJFmfUia",
        "colab_type": "code",
        "colab": {
          "base_uri": "https://localhost:8080/",
          "height": 35
        },
        "outputId": "f68c855c-37bc-4d7c-bbe3-6e5d710e94c5"
      },
      "source": [
        "b=input('Enter another value  ')"
      ],
      "execution_count": 12,
      "outputs": [
        {
          "output_type": "stream",
          "text": [
            "Enter another value  7\n"
          ],
          "name": "stdout"
        }
      ]
    },
    {
      "cell_type": "code",
      "metadata": {
        "id": "MZUm5LuDfUlF",
        "colab_type": "code",
        "colab": {}
      },
      "source": [
        "if a==b:\n",
        "\tprint('Both are same \\n')"
      ],
      "execution_count": 13,
      "outputs": []
    },
    {
      "cell_type": "code",
      "metadata": {
        "id": "acWPhT6NfUne",
        "colab_type": "code",
        "colab": {
          "base_uri": "https://localhost:8080/",
          "height": 54
        },
        "outputId": "26e75fe0-2f44-4f7d-dce2-da00f3ce7e5c"
      },
      "source": [
        "if a!=b:\n",
        "\tprint('Both are different values \\n')"
      ],
      "execution_count": 15,
      "outputs": [
        {
          "output_type": "stream",
          "text": [
            "Both are different values \n",
            "\n"
          ],
          "name": "stdout"
        }
      ]
    }
  ]
}