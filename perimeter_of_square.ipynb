{
  "nbformat": 4,
  "nbformat_minor": 0,
  "metadata": {
    "colab": {
      "name": "perimeter of square",
      "provenance": []
    },
    "kernelspec": {
      "name": "python3",
      "display_name": "Python 3"
    }
  },
  "cells": [
    {
      "cell_type": "code",
      "metadata": {
        "id": "ynl04OCchb0B",
        "colab_type": "code",
        "colab": {
          "base_uri": "https://localhost:8080/",
          "height": 35
        },
        "outputId": "3a68f7d3-f91e-41d8-c0b8-f408f01b779b"
      },
      "source": [
        "a=float(input(\"enter the side value:\"))"
      ],
      "execution_count": 31,
      "outputs": [
        {
          "output_type": "stream",
          "text": [
            "enter the side value:4\n"
          ],
          "name": "stdout"
        }
      ]
    },
    {
      "cell_type": "code",
      "metadata": {
        "id": "hE9nGm0Zhb23",
        "colab_type": "code",
        "colab": {}
      },
      "source": [
        "perimeter=4*a"
      ],
      "execution_count": 32,
      "outputs": []
    },
    {
      "cell_type": "code",
      "metadata": {
        "id": "dUQKTyPEhb5T",
        "colab_type": "code",
        "colab": {
          "base_uri": "https://localhost:8080/",
          "height": 35
        },
        "outputId": "cfe4b1a2-2b00-4aa7-dbe4-2bc441da9eab"
      },
      "source": [
        "print(\"perimeter of the square:\",perimeter)"
      ],
      "execution_count": 33,
      "outputs": [
        {
          "output_type": "stream",
          "text": [
            "perimeter of the square: 16.0\n"
          ],
          "name": "stdout"
        }
      ]
    }
  ]
}